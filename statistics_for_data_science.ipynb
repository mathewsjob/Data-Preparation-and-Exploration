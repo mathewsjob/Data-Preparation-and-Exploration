{
 "cells": [
  {
   "cell_type": "markdown",
   "id": "37f7d2a1",
   "metadata": {},
   "source": [
    "# Important Statistics for Data Science"
   ]
  },
  {
   "cell_type": "markdown",
   "id": "502da5ed",
   "metadata": {},
   "source": [
    "## 1. Descriptive Statistics"
   ]
  },
  {
   "cell_type": "markdown",
   "id": "e3d4fab1",
   "metadata": {},
   "source": [
    "\n",
    "### Measures of Central Tendency:\n",
    "- **Mean**: The average of a set of numbers.\n",
    "- **Median**: The middle value when data is sorted.\n",
    "- **Mode**: The most frequently occurring value in a dataset.\n",
    "\n",
    "### Measures of Dispersion:\n",
    "- **Range**: The difference between the maximum and minimum values.\n",
    "- **Variance**: The average of the squared differences from the mean, indicating data spread.\n",
    "- **Standard Deviation**: The square root of the variance, providing a measure of dispersion in the same units as the data.\n",
    "- **Interquartile Range (IQR)**: The difference between the 75th percentile (Q3) and the 25th percentile (Q1), indicating the range of the middle 50% of the data.\n"
   ]
  },
  {
   "cell_type": "markdown",
   "id": "096cb9ae",
   "metadata": {},
   "source": [
    "## 2. Probability Theory"
   ]
  },
  {
   "cell_type": "markdown",
   "id": "8b73b1af",
   "metadata": {},
   "source": [
    "\n",
    "### Basic Concepts:\n",
    "- **Probability**: The likelihood of an event occurring, ranging from 0 to 1.\n",
    "- **Random Variables**: Variables that can take different values based on chance.\n",
    "- **Probability Distributions**:\n",
    "  - **Discrete Distributions**: e.g., Binomial Distribution, Poisson Distribution.\n",
    "  - **Continuous Distributions**: e.g., Normal Distribution, Exponential Distribution, Uniform Distribution.\n",
    "\n",
    "### Bayes’ Theorem:\n",
    "- A method for updating probabilities based on new evidence.\n"
   ]
  },
  {
   "cell_type": "markdown",
   "id": "3dd343e3",
   "metadata": {},
   "source": [
    "## 3. Inferential Statistics"
   ]
  },
  {
   "cell_type": "markdown",
   "id": "91b50d2f",
   "metadata": {},
   "source": [
    "\n",
    "### Hypothesis Testing:\n",
    "- **Null Hypothesis (H0)**: The default assumption that there is no effect or difference.\n",
    "- **Alternative Hypothesis (H1)**: The hypothesis that indicates the presence of an effect or difference.\n",
    "- **p-Value**: The probability of obtaining results at least as extreme as the observed results, assuming the null hypothesis is true.\n",
    "- **Type I and Type II Errors**: \n",
    "  - Type I Error (α): Rejecting the null hypothesis when it is true (false positive).\n",
    "  - Type II Error (β): Failing to reject the null hypothesis when it is false (false negative).\n",
    "\n",
    "### Confidence Intervals:\n",
    "- A range of values, derived from sample statistics, that is likely to contain the population parameter.\n"
   ]
  },
  {
   "cell_type": "markdown",
   "id": "6c89fefa",
   "metadata": {},
   "source": [
    "## 4. Correlation and Regression"
   ]
  },
  {
   "cell_type": "markdown",
   "id": "152a8ef8",
   "metadata": {},
   "source": [
    "\n",
    "### Correlation:\n",
    "- **Pearson Correlation Coefficient**: Measures linear correlation between two variables.\n",
    "- **Spearman Rank Correlation**: Measures the strength and direction of association between two ranked variables.\n",
    "\n",
    "### Regression Analysis:\n",
    "- **Simple Linear Regression**: Models the relationship between two variables by fitting a linear equation.\n",
    "- **Multiple Linear Regression**: Models the relationship between one dependent variable and multiple independent variables.\n",
    "- **Logistic Regression**: Used for binary classification tasks, predicting the probability of an outcome.\n"
   ]
  },
  {
   "cell_type": "markdown",
   "id": "18ddf2c1",
   "metadata": {},
   "source": [
    "## 5. Statistical Power Analysis"
   ]
  },
  {
   "cell_type": "markdown",
   "id": "2d569c3f",
   "metadata": {},
   "source": [
    "\n",
    "### Statistical Power:\n",
    "- The probability that a test will correctly reject a false null hypothesis. It is influenced by sample size, effect size, and significance level.\n"
   ]
  },
  {
   "cell_type": "markdown",
   "id": "bd27cb1b",
   "metadata": {},
   "source": [
    "## 6. ANOVA (Analysis of Variance)"
   ]
  },
  {
   "cell_type": "markdown",
   "id": "f7fb717b",
   "metadata": {},
   "source": [
    "\n",
    "- A statistical method used to determine if there are statistically significant differences between the means of three or more independent groups.\n"
   ]
  },
  {
   "cell_type": "markdown",
   "id": "5503447c",
   "metadata": {},
   "source": [
    "## 7. Non-Parametric Tests"
   ]
  },
  {
   "cell_type": "markdown",
   "id": "6cf85150",
   "metadata": {},
   "source": [
    "\n",
    "- Statistical tests that do not assume a specific distribution (e.g., Wilcoxon Signed-Rank Test, Kruskal-Wallis Test).\n"
   ]
  },
  {
   "cell_type": "markdown",
   "id": "1af26a61",
   "metadata": {},
   "source": [
    "## 8. Time Series Analysis"
   ]
  },
  {
   "cell_type": "markdown",
   "id": "2a7d22dc",
   "metadata": {},
   "source": [
    "\n",
    "- Techniques to analyze time-ordered data points, including methods like Autoregressive Integrated Moving Average (ARIMA) and Exponential Smoothing.\n"
   ]
  },
  {
   "cell_type": "markdown",
   "id": "1cc5c3cd",
   "metadata": {},
   "source": [
    "## 9. Exploratory Data Analysis (EDA)"
   ]
  },
  {
   "cell_type": "markdown",
   "id": "50d41e0f",
   "metadata": {},
   "source": [
    "\n",
    "- **Visualization Techniques**: Using plots and graphs to understand data distributions, relationships, and anomalies (e.g., histograms, scatter plots, box plots).\n",
    "- **Summary Statistics**: Calculating and interpreting key statistics to gain insights into the data.\n"
   ]
  },
  {
   "cell_type": "markdown",
   "id": "2dc560e8",
   "metadata": {},
   "source": [
    "## 10. Machine Learning Statistics"
   ]
  },
  {
   "cell_type": "markdown",
   "id": "9b8d8c92",
   "metadata": {},
   "source": [
    "\n",
    "- **Overfitting and Underfitting**: Understanding how model complexity affects performance.\n",
    "- **Bias-Variance Tradeoff**: The balance between the error due to bias and the error due to variance in predictive modeling.\n"
   ]
  }
 ],
 "metadata": {},
 "nbformat": 4,
 "nbformat_minor": 5
}
